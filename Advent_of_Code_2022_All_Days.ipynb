{
  "nbformat": 4,
  "nbformat_minor": 0,
  "metadata": {
    "colab": {
      "provenance": [],
      "collapsed_sections": [
        "Lnau-iQbEuyR",
        "pX46HOKKE63C",
        "A4oK9ew2FSzH",
        "NE7LshhnFyem",
        "YwMq4qkFIHlD",
        "aN-Hvt7R2UCW",
        "7OWJ_KLsGiCf",
        "myCtwXz4R1G5",
        "DGANMIicbSuR"
      ],
      "include_colab_link": true
    },
    "kernelspec": {
      "name": "python3",
      "display_name": "Python 3"
    },
    "language_info": {
      "name": "python"
    }
  },
  "cells": [
    {
      "cell_type": "markdown",
      "metadata": {
        "id": "view-in-github",
        "colab_type": "text"
      },
      "source": [
        "<a href=\"https://colab.research.google.com/github/dwco-z/AdventOfCode2022/blob/main/Advent_of_Code_2022_All_Days.ipynb\" target=\"_parent\"><img src=\"https://colab.research.google.com/assets/colab-badge.svg\" alt=\"Open In Colab\"/></a>"
      ]
    },
    {
      "cell_type": "code",
      "source": [
        "from google.colab import files\n",
        "uploaded = files.upload()"
      ],
      "metadata": {
        "colab": {
          "base_uri": "https://localhost:8080/",
          "height": 74
        },
        "id": "gpCs_G1LZlfN",
        "outputId": "fd1127c4-8db6-42aa-f1f3-f211c9927b75"
      },
      "execution_count": 54,
      "outputs": [
        {
          "output_type": "display_data",
          "data": {
            "text/plain": [
              "<IPython.core.display.HTML object>"
            ],
            "text/html": [
              "\n",
              "     <input type=\"file\" id=\"files-ad9bb423-73b5-4d9f-8048-6aa6757174d0\" name=\"files[]\" multiple disabled\n",
              "        style=\"border:none\" />\n",
              "     <output id=\"result-ad9bb423-73b5-4d9f-8048-6aa6757174d0\">\n",
              "      Upload widget is only available when the cell has been executed in the\n",
              "      current browser session. Please rerun this cell to enable.\n",
              "      </output>\n",
              "      <script>// Copyright 2017 Google LLC\n",
              "//\n",
              "// Licensed under the Apache License, Version 2.0 (the \"License\");\n",
              "// you may not use this file except in compliance with the License.\n",
              "// You may obtain a copy of the License at\n",
              "//\n",
              "//      http://www.apache.org/licenses/LICENSE-2.0\n",
              "//\n",
              "// Unless required by applicable law or agreed to in writing, software\n",
              "// distributed under the License is distributed on an \"AS IS\" BASIS,\n",
              "// WITHOUT WARRANTIES OR CONDITIONS OF ANY KIND, either express or implied.\n",
              "// See the License for the specific language governing permissions and\n",
              "// limitations under the License.\n",
              "\n",
              "/**\n",
              " * @fileoverview Helpers for google.colab Python module.\n",
              " */\n",
              "(function(scope) {\n",
              "function span(text, styleAttributes = {}) {\n",
              "  const element = document.createElement('span');\n",
              "  element.textContent = text;\n",
              "  for (const key of Object.keys(styleAttributes)) {\n",
              "    element.style[key] = styleAttributes[key];\n",
              "  }\n",
              "  return element;\n",
              "}\n",
              "\n",
              "// Max number of bytes which will be uploaded at a time.\n",
              "const MAX_PAYLOAD_SIZE = 100 * 1024;\n",
              "\n",
              "function _uploadFiles(inputId, outputId) {\n",
              "  const steps = uploadFilesStep(inputId, outputId);\n",
              "  const outputElement = document.getElementById(outputId);\n",
              "  // Cache steps on the outputElement to make it available for the next call\n",
              "  // to uploadFilesContinue from Python.\n",
              "  outputElement.steps = steps;\n",
              "\n",
              "  return _uploadFilesContinue(outputId);\n",
              "}\n",
              "\n",
              "// This is roughly an async generator (not supported in the browser yet),\n",
              "// where there are multiple asynchronous steps and the Python side is going\n",
              "// to poll for completion of each step.\n",
              "// This uses a Promise to block the python side on completion of each step,\n",
              "// then passes the result of the previous step as the input to the next step.\n",
              "function _uploadFilesContinue(outputId) {\n",
              "  const outputElement = document.getElementById(outputId);\n",
              "  const steps = outputElement.steps;\n",
              "\n",
              "  const next = steps.next(outputElement.lastPromiseValue);\n",
              "  return Promise.resolve(next.value.promise).then((value) => {\n",
              "    // Cache the last promise value to make it available to the next\n",
              "    // step of the generator.\n",
              "    outputElement.lastPromiseValue = value;\n",
              "    return next.value.response;\n",
              "  });\n",
              "}\n",
              "\n",
              "/**\n",
              " * Generator function which is called between each async step of the upload\n",
              " * process.\n",
              " * @param {string} inputId Element ID of the input file picker element.\n",
              " * @param {string} outputId Element ID of the output display.\n",
              " * @return {!Iterable<!Object>} Iterable of next steps.\n",
              " */\n",
              "function* uploadFilesStep(inputId, outputId) {\n",
              "  const inputElement = document.getElementById(inputId);\n",
              "  inputElement.disabled = false;\n",
              "\n",
              "  const outputElement = document.getElementById(outputId);\n",
              "  outputElement.innerHTML = '';\n",
              "\n",
              "  const pickedPromise = new Promise((resolve) => {\n",
              "    inputElement.addEventListener('change', (e) => {\n",
              "      resolve(e.target.files);\n",
              "    });\n",
              "  });\n",
              "\n",
              "  const cancel = document.createElement('button');\n",
              "  inputElement.parentElement.appendChild(cancel);\n",
              "  cancel.textContent = 'Cancel upload';\n",
              "  const cancelPromise = new Promise((resolve) => {\n",
              "    cancel.onclick = () => {\n",
              "      resolve(null);\n",
              "    };\n",
              "  });\n",
              "\n",
              "  // Wait for the user to pick the files.\n",
              "  const files = yield {\n",
              "    promise: Promise.race([pickedPromise, cancelPromise]),\n",
              "    response: {\n",
              "      action: 'starting',\n",
              "    }\n",
              "  };\n",
              "\n",
              "  cancel.remove();\n",
              "\n",
              "  // Disable the input element since further picks are not allowed.\n",
              "  inputElement.disabled = true;\n",
              "\n",
              "  if (!files) {\n",
              "    return {\n",
              "      response: {\n",
              "        action: 'complete',\n",
              "      }\n",
              "    };\n",
              "  }\n",
              "\n",
              "  for (const file of files) {\n",
              "    const li = document.createElement('li');\n",
              "    li.append(span(file.name, {fontWeight: 'bold'}));\n",
              "    li.append(span(\n",
              "        `(${file.type || 'n/a'}) - ${file.size} bytes, ` +\n",
              "        `last modified: ${\n",
              "            file.lastModifiedDate ? file.lastModifiedDate.toLocaleDateString() :\n",
              "                                    'n/a'} - `));\n",
              "    const percent = span('0% done');\n",
              "    li.appendChild(percent);\n",
              "\n",
              "    outputElement.appendChild(li);\n",
              "\n",
              "    const fileDataPromise = new Promise((resolve) => {\n",
              "      const reader = new FileReader();\n",
              "      reader.onload = (e) => {\n",
              "        resolve(e.target.result);\n",
              "      };\n",
              "      reader.readAsArrayBuffer(file);\n",
              "    });\n",
              "    // Wait for the data to be ready.\n",
              "    let fileData = yield {\n",
              "      promise: fileDataPromise,\n",
              "      response: {\n",
              "        action: 'continue',\n",
              "      }\n",
              "    };\n",
              "\n",
              "    // Use a chunked sending to avoid message size limits. See b/62115660.\n",
              "    let position = 0;\n",
              "    do {\n",
              "      const length = Math.min(fileData.byteLength - position, MAX_PAYLOAD_SIZE);\n",
              "      const chunk = new Uint8Array(fileData, position, length);\n",
              "      position += length;\n",
              "\n",
              "      const base64 = btoa(String.fromCharCode.apply(null, chunk));\n",
              "      yield {\n",
              "        response: {\n",
              "          action: 'append',\n",
              "          file: file.name,\n",
              "          data: base64,\n",
              "        },\n",
              "      };\n",
              "\n",
              "      let percentDone = fileData.byteLength === 0 ?\n",
              "          100 :\n",
              "          Math.round((position / fileData.byteLength) * 100);\n",
              "      percent.textContent = `${percentDone}% done`;\n",
              "\n",
              "    } while (position < fileData.byteLength);\n",
              "  }\n",
              "\n",
              "  // All done.\n",
              "  yield {\n",
              "    response: {\n",
              "      action: 'complete',\n",
              "    }\n",
              "  };\n",
              "}\n",
              "\n",
              "scope.google = scope.google || {};\n",
              "scope.google.colab = scope.google.colab || {};\n",
              "scope.google.colab._files = {\n",
              "  _uploadFiles,\n",
              "  _uploadFilesContinue,\n",
              "};\n",
              "})(self);\n",
              "</script> "
            ]
          },
          "metadata": {}
        },
        {
          "output_type": "stream",
          "name": "stdout",
          "text": [
            "Saving input_9.txt to input_9.txt\n"
          ]
        }
      ]
    },
    {
      "cell_type": "markdown",
      "source": [
        "##**Day 1**"
      ],
      "metadata": {
        "id": "Lnau-iQbEuyR"
      }
    },
    {
      "cell_type": "code",
      "execution_count": null,
      "metadata": {
        "id": "B6bDHLwqZS9y"
      },
      "outputs": [],
      "source": [
        "input = open(\"input.txt\", \"r\").read().strip()"
      ]
    },
    {
      "cell_type": "code",
      "source": [
        "total_per_elfie = []\n",
        "for qtd_per_elfie in input.split(\"\\n\\n\"):\n",
        "  total = sum(map(lambda qtd_str: int(qtd_str), qtd_per_elfie.strip(\"\\n\").split(\"\\n\")))\n",
        "  total_per_elfie.append(total)\n",
        "\n",
        "total_per_elfie.sort(reverse=True)\n",
        "print(total_per_elfie[0])\n",
        "print(sum(total_per_elfie[:3]))"
      ],
      "metadata": {
        "colab": {
          "base_uri": "https://localhost:8080/"
        },
        "id": "NTa1s9XzbXhg",
        "outputId": "4f4ecbd3-2650-4960-ae47-de409b315e4d"
      },
      "execution_count": null,
      "outputs": [
        {
          "output_type": "stream",
          "name": "stdout",
          "text": [
            "70116\n",
            "206582\n"
          ]
        }
      ]
    },
    {
      "cell_type": "markdown",
      "source": [
        "##**Day 2**"
      ],
      "metadata": {
        "id": "pX46HOKKE63C"
      }
    },
    {
      "cell_type": "code",
      "source": [
        "input = open(\"input_2.txt\", \"r\").read().strip().split(\"\\n\")"
      ],
      "metadata": {
        "id": "vyZMzO1fcQq7"
      },
      "execution_count": null,
      "outputs": []
    },
    {
      "cell_type": "code",
      "source": [
        "outcome_map = {\n",
        "    \"loss\" : 0,\n",
        "    \"draw\" : 3,\n",
        "    \"win\" : 6\n",
        "}\n",
        "\n",
        "shape_points_map = {\n",
        "    \"rock\" : 1,\n",
        "    \"paper\" : 2,\n",
        "    \"scisors\" : 3\n",
        "}\n",
        "\n",
        "user_adversary_map = {\n",
        "    \"A\" : \"rock\",\n",
        "    \"B\" : \"paper\",\n",
        "    \"C\" : \"scisors\"\n",
        "}\n",
        "\n",
        "user_response_map = {\n",
        "    \"X\" : \"rock\",\n",
        "    \"Y\" : \"paper\",\n",
        "    \"Z\" : \"scisors\"\n",
        "}\n",
        "\n",
        "loses_to_map = {\n",
        "    \"rock\": \"paper\",\n",
        "    \"paper\": \"scisors\",\n",
        "    \"scisors\": \"rock\"\n",
        "}\n",
        "\n",
        "def compute_points(pair: str):\n",
        "  adversary, my_choice = pair.split(\" \")\n",
        "  adversary, my_choice = user_adversary_map[adversary], user_response_map[my_choice]\n",
        "  winner, choice = play_against_adversary(adversary, my_choice)\n",
        "  return outcome_map[winner] + shape_points_map[my_choice]\n",
        "\n",
        "def play_against_adversary(adversary_choice, my_choice):\n",
        "  if (adversary_choice == my_choice):\n",
        "    return 'draw', adversary_choice\n",
        "  elif (loses_to_map[my_choice] == adversary_choice):\n",
        "    return 'loss', adversary_choice\n",
        "  elif (loses_to_map[adversary_choice] == my_choice):\n",
        "    return 'win', my_choice"
      ],
      "metadata": {
        "id": "BrQXOKGebOmO"
      },
      "execution_count": null,
      "outputs": []
    },
    {
      "cell_type": "code",
      "source": [
        "sum = 0\n",
        "for pair in input:\n",
        "  p = compute_points(pair)\n",
        "  sum += p\n",
        "print(sum)"
      ],
      "metadata": {
        "colab": {
          "base_uri": "https://localhost:8080/"
        },
        "id": "r8CAtcM0cEi_",
        "outputId": "d629e0b7-4d75-4748-8d66-716f437af1e3"
      },
      "execution_count": null,
      "outputs": [
        {
          "output_type": "stream",
          "name": "stdout",
          "text": [
            "12535\n"
          ]
        }
      ]
    },
    {
      "cell_type": "code",
      "source": [
        "outcome_map = {\n",
        "    \"loss\" : 0,\n",
        "    \"draw\" : 3,\n",
        "    \"win\" : 6\n",
        "}\n",
        "\n",
        "shape_points_map = {\n",
        "    \"rock\" : 1,\n",
        "    \"paper\" : 2,\n",
        "    \"scisors\" : 3\n",
        "}\n",
        "\n",
        "user_adversary_map = {\n",
        "    \"A\" : \"rock\",\n",
        "    \"B\" : \"paper\",\n",
        "    \"C\" : \"scisors\"\n",
        "}\n",
        "\n",
        "desired_outcome_map = {\n",
        "    \"X\" : \"loss\",\n",
        "    \"Y\" : \"draw\",\n",
        "    \"Z\" : \"win\"\n",
        "}\n",
        "\n",
        "loses_to_map = {\n",
        "    \"rock\": \"paper\",\n",
        "    \"paper\": \"scisors\",\n",
        "    \"scisors\": \"rock\"\n",
        "}\n",
        "\n",
        "wins_to_map = {\n",
        "    \"rock\": \"scisors\",\n",
        "    \"paper\": \"rock\",\n",
        "    \"scisors\": \"paper\"\n",
        "}\n",
        "\n",
        "\n",
        "def compute_points(pair: str):\n",
        "  adversary, desired_outcome = pair.split(\" \")\n",
        "  adversary, desired_outcome = user_adversary_map[adversary], desired_outcome_map[desired_outcome]\n",
        "  adversary, my_choice = adversary, choose_my_option(adversary, desired_outcome)\n",
        "  winner, choice = play_against_adversary(adversary, my_choice)\n",
        "  return outcome_map[winner] + shape_points_map[my_choice]\n",
        "\n",
        "\n",
        "def play_against_adversary(adversary_choice, my_choice):\n",
        "  if (adversary_choice == my_choice):\n",
        "    return 'draw', adversary_choice\n",
        "  elif (loses_to_map[my_choice] == adversary_choice):\n",
        "    return 'loss', adversary_choice\n",
        "  elif (loses_to_map[adversary_choice] == my_choice):\n",
        "    return 'win', my_choice\n",
        "\n",
        "\n",
        "def choose_my_option(adversary_choice, desired_outcome):\n",
        "  if (desired_outcome == \"draw\"):\n",
        "    return adversary_choice\n",
        "  elif (desired_outcome == \"win\"):\n",
        "    return loses_to_map[adversary_choice]\n",
        "  elif (desired_outcome == \"loss\"):\n",
        "    return wins_to_map[adversary_choice]"
      ],
      "metadata": {
        "id": "D0th9gHDlOWv"
      },
      "execution_count": null,
      "outputs": []
    },
    {
      "cell_type": "code",
      "source": [
        "sum = 0\n",
        "for pair in input:\n",
        "  p = compute_points(pair)\n",
        "  sum += p\n",
        "print(sum)"
      ],
      "metadata": {
        "colab": {
          "base_uri": "https://localhost:8080/"
        },
        "id": "s_UaWVQrlVGf",
        "outputId": "2fc13130-45f5-45a9-caa7-8b6350bf902c"
      },
      "execution_count": null,
      "outputs": [
        {
          "output_type": "stream",
          "name": "stdout",
          "text": [
            "15457\n"
          ]
        }
      ]
    },
    {
      "cell_type": "markdown",
      "source": [
        "##**Day 3**"
      ],
      "metadata": {
        "id": "A4oK9ew2FSzH"
      }
    },
    {
      "cell_type": "code",
      "source": [
        "input = open(\"input_3.txt\", \"r\").readlines()\n",
        "# input = '''vJrwpWtwJgWrhcsFMMfFFhFp\n",
        "# jqHRNqRjqzjGDLGLrsFMfFZSrLrFZsSL\n",
        "# PmmdzqPrVvPwwTWBwg\n",
        "# wMqvLMZHhHMvwLHjbvcjnnSBnvTQFn\n",
        "# ttgJtRGJQctTZtZT\n",
        "# CrZsJsPPZsGzwwsLwLmpwMDw'''.split(\"\\n\")"
      ],
      "metadata": {
        "id": "18I4T8iQebrn"
      },
      "execution_count": null,
      "outputs": []
    },
    {
      "cell_type": "code",
      "source": [
        "import string\n",
        "alphabet_lowercase = string.ascii_lowercase\n",
        "alphabet_uppercase = string.ascii_uppercase\n",
        "alphabet_lowercase = dict(zip(alphabet_lowercase, range(1, len(alphabet_lowercase) + 1)))\n",
        "alphabet_uppercase = dict(zip(alphabet_uppercase, range(len(alphabet_lowercase) + 1, len(alphabet_lowercase) + len(alphabet_uppercase) + 1)))\n"
      ],
      "metadata": {
        "id": "_Wi1mxvOd99d"
      },
      "execution_count": null,
      "outputs": []
    },
    {
      "cell_type": "code",
      "source": [
        "acc = 0\n",
        "for row in input:\n",
        "  row = row.rstrip(\"\\n\")\n",
        "  m_index = (int)(len(row) / 2)\n",
        "  a, b = set(row[:m_index]), set(row[m_index:])\n",
        "  intersects = a.intersection(b)\n",
        "  acc += sum(map(lambda i: alphabet_lowercase.get(i, 0) + alphabet_uppercase.get(i, 0), intersects))\n",
        "print(acc)"
      ],
      "metadata": {
        "id": "FhFN69rbesZK"
      },
      "execution_count": null,
      "outputs": []
    },
    {
      "cell_type": "code",
      "source": [
        "acc = 0\n",
        "for start_row_idx in range(0, len(input), 3):\n",
        "  groups = input[start_row_idx:start_row_idx+3]\n",
        "  group1 = set(groups[0].rstrip(\"\\n\"))\n",
        "  group2 = set(groups[1].rstrip(\"\\n\"))\n",
        "  group3 = set(groups[2].rstrip(\"\\n\"))\n",
        "  intersects = group1.intersection(group2).intersection(group3)\n",
        "  acc += sum(map(lambda i: alphabet_lowercase.get(i, 0) + alphabet_uppercase.get(i, 0), intersects))\n",
        "print(acc)\n",
        "  "
      ],
      "metadata": {
        "colab": {
          "base_uri": "https://localhost:8080/"
        },
        "id": "U_hzZ1syiyUY",
        "outputId": "5297e5d8-61dc-4736-8fdb-04467d35aeb9"
      },
      "execution_count": null,
      "outputs": [
        {
          "output_type": "stream",
          "name": "stdout",
          "text": [
            "2518\n"
          ]
        }
      ]
    },
    {
      "cell_type": "markdown",
      "source": [
        "##**Day 4**"
      ],
      "metadata": {
        "id": "NE7LshhnFyem"
      }
    },
    {
      "cell_type": "code",
      "source": [
        "input = open(\"input_4.txt\", \"r\").readlines()"
      ],
      "metadata": {
        "id": "3wQ6h6R7dDoh"
      },
      "execution_count": null,
      "outputs": []
    },
    {
      "cell_type": "code",
      "source": [
        "def is_subset_of(range1: range, range2: range):\n",
        "  return range1.start in range2 and range1[-1] in range2"
      ],
      "metadata": {
        "id": "YojhsVehdELz"
      },
      "execution_count": null,
      "outputs": []
    },
    {
      "cell_type": "code",
      "source": [
        "acc = 0\n",
        "for r in input:\n",
        "  range1, range2 = r.split(\",\")\n",
        "\n",
        "  range1 = range1.split(\"-\")\n",
        "  range1 = range(int(range1[0]), int(range1[1])+1)\n",
        "\n",
        "  range2 = range2.split(\"-\")\n",
        "  range2 = range(int(range2[0]), int(range2[1])+1)\n",
        "\n",
        "  is_contained = is_subset_of(range1, range2)\n",
        "  if is_contained:\n",
        "    acc += 1\n",
        "  else:\n",
        "     is_contained = is_subset_of(range2, range1)\n",
        "     if is_contained:\n",
        "       acc += 1\n",
        "print(acc)"
      ],
      "metadata": {
        "colab": {
          "base_uri": "https://localhost:8080/"
        },
        "id": "CEDSTzwedpWD",
        "outputId": "8b3dc76d-9b6b-4eb6-b171-eb24a4c3f25d"
      },
      "execution_count": null,
      "outputs": [
        {
          "output_type": "stream",
          "name": "stdout",
          "text": [
            "534\n"
          ]
        }
      ]
    },
    {
      "cell_type": "code",
      "source": [
        "acc = 0\n",
        "for r in input:\n",
        "  range1, range2 = r.split(\",\")\n",
        "\n",
        "  range1 = range1.split(\"-\")\n",
        "  range1 = set(range(int(range1[0]), int(range1[1])+1))\n",
        "\n",
        "  range2 = range2.split(\"-\")\n",
        "  range2 = set(range(int(range2[0]), int(range2[1])+1))\n",
        "\n",
        "  overlap = range1.intersection(range2)\n",
        "  if (len(overlap) > 0):\n",
        "    acc += 1\n",
        "\n",
        "  \n",
        "print(acc)"
      ],
      "metadata": {
        "colab": {
          "base_uri": "https://localhost:8080/"
        },
        "id": "zft9Yx7bg7KQ",
        "outputId": "99766fb3-b25b-43ff-c306-c0fd8b1ca07a"
      },
      "execution_count": null,
      "outputs": [
        {
          "output_type": "stream",
          "name": "stdout",
          "text": [
            "841\n"
          ]
        }
      ]
    },
    {
      "cell_type": "markdown",
      "source": [
        "##**Day 5**"
      ],
      "metadata": {
        "id": "YwMq4qkFIHlD"
      }
    },
    {
      "cell_type": "code",
      "source": [
        "import re\n",
        "input = open(\"input_5.txt\", \"r\").read().strip(\"\\n\")\n",
        "# input = '''\n",
        "#     [D]    \n",
        "# [N] [C]    \n",
        "# [Z] [M] [P]\n",
        "#  1   2   3 \n",
        "\n",
        "# move 1 from 2 to 1\n",
        "# move 3 from 1 to 3\n",
        "# move 2 from 2 to 1\n",
        "# move 1 from 1 to 2\n",
        "# '''.strip(\"\\n\")"
      ],
      "metadata": {
        "id": "wVZFmBMOyiUR"
      },
      "execution_count": null,
      "outputs": []
    },
    {
      "cell_type": "code",
      "source": [
        "parts = input.split(\"\\n\\n\")\n",
        "stacks_str, moves = parts[0], parts[1]\n",
        "stacks_str[:100], moves[:100]"
      ],
      "metadata": {
        "colab": {
          "base_uri": "https://localhost:8080/"
        },
        "id": "EntCL9lRzIHa",
        "outputId": "df2f247b-5d51-4989-d5a5-c48c0a672451"
      },
      "execution_count": null,
      "outputs": [
        {
          "output_type": "execute_result",
          "data": {
            "text/plain": [
              "('    [N]     [A]                     \\n    [J]     [O]                     \\n    [C]     [E]           ',\n",
              " 'move 12852 from 4 to 1\\nmove 47812 from 5 to 6\\nmove 144725 from 6 to 8\\nmove 90227 from 1 to 7\\nmove 16')"
            ]
          },
          "metadata": {},
          "execution_count": 9
        }
      ]
    },
    {
      "cell_type": "code",
      "source": [
        "stacks_str_lst = stacks_str.split(\"\\n\")\n",
        "stack_to_idx = {}\n",
        "for i in range(1, 9 + 1):\n",
        "  stack_to_idx[str(i)] = stacks_str_lst[-1].find(str(i))\n",
        "\n",
        "stack_to_idx"
      ],
      "metadata": {
        "colab": {
          "base_uri": "https://localhost:8080/"
        },
        "id": "hYNbizq6zU84",
        "outputId": "8e3b7ff0-c614-4b4a-8a28-788e9fe1ba1a"
      },
      "execution_count": null,
      "outputs": [
        {
          "output_type": "execute_result",
          "data": {
            "text/plain": [
              "{'1': 1, '2': 5, '3': 9, '4': 13, '5': 17, '6': 21, '7': 25, '8': 29, '9': 33}"
            ]
          },
          "metadata": {},
          "execution_count": 10
        }
      ]
    },
    {
      "cell_type": "code",
      "source": [
        "def is_empty(content):\n",
        "  return len(content) == 0\n",
        "\n",
        "stacks = dict()\n",
        "for idx in range(len(stacks_str_lst) - 1):\n",
        "  row = stacks_str_lst[idx]\n",
        "  for stack_id, stack_idx in stack_to_idx.items():\n",
        "    if (row[stack_idx] != \" \"):\n",
        "       if stack_id not in stacks:\n",
        "          stacks[stack_id] = [row[stack_idx]]\n",
        "       else:\n",
        "          stacks[stack_id].insert(0, row[stack_idx])\n",
        "\n",
        "moves_lst = moves.split(\"\\n\")\n",
        "for row in moves_lst:\n",
        "  result = re.findall(r'\\d+', row)\n",
        "  #print(result)\n",
        "  qtd = int(result[0])\n",
        "  source_stack = result[1]\n",
        "  target_stack = result[2]\n",
        "  \n",
        "  source = stacks[str(source_stack)][-qtd:]\n",
        "\n",
        "  # stacks[str(target_stack)] += source[::-1] # part 1\n",
        "  stacks[str(target_stack)] += source # part 2 \n",
        "  stacks[str(source_stack)] = stacks[str(source_stack)][:-qtd]\n",
        "\n",
        "answers = []\n",
        "for id, lst in stacks.items():\n",
        "  answers.append([id, list(filter(lambda e: e != \" \", lst))[-1]])\n",
        "\n",
        "answers = sorted(answers)\n",
        "\n",
        "\"\".join([i[1] for i in answers])"
      ],
      "metadata": {
        "colab": {
          "base_uri": "https://localhost:8080/",
          "height": 35
        },
        "id": "QBlU2Caw11KX",
        "outputId": "d98f8180-ffe1-4f72-efec-a6765a9036ae"
      },
      "execution_count": null,
      "outputs": [
        {
          "output_type": "execute_result",
          "data": {
            "text/plain": [
              "'DEVSCHUUR'"
            ],
            "application/vnd.google.colaboratory.intrinsic+json": {
              "type": "string"
            }
          },
          "metadata": {},
          "execution_count": 12
        }
      ]
    },
    {
      "cell_type": "markdown",
      "source": [
        "##**Day 6**"
      ],
      "metadata": {
        "id": "aN-Hvt7R2UCW"
      }
    },
    {
      "cell_type": "code",
      "source": [
        "input = open(\"input_6.txt\", \"r\").read().strip()"
      ],
      "metadata": {
        "id": "EtfpNbEn2Cpu"
      },
      "execution_count": null,
      "outputs": []
    },
    {
      "cell_type": "code",
      "source": [
        "window_size = 14 # 4 for part 1 and 14 for part 2\n",
        "for i in range(len(input) - (window_size - 1)):\n",
        "  window = input[i:i+window_size]\n",
        "  if (len(set(window)) == window_size):\n",
        "    print(i + window_size)\n",
        "    break\n",
        "    "
      ],
      "metadata": {
        "colab": {
          "base_uri": "https://localhost:8080/"
        },
        "id": "kBWdsR-72bKS",
        "outputId": "f23bae58-cea5-435b-afa0-96866b339b01"
      },
      "execution_count": null,
      "outputs": [
        {
          "output_type": "stream",
          "name": "stdout",
          "text": [
            "3551\n"
          ]
        }
      ]
    },
    {
      "cell_type": "markdown",
      "source": [
        "##**Day 7**"
      ],
      "metadata": {
        "id": "7OWJ_KLsGiCf"
      }
    },
    {
      "cell_type": "code",
      "source": [
        "input = open(\"input_7.txt\", \"r\").read().strip(\"\\n\").split(\"\\n\")\n",
        "# input = '''$ cd /\n",
        "# $ ls\n",
        "# dir a\n",
        "# 14848514 b.txt\n",
        "# 8504156 c.dat\n",
        "# dir d\n",
        "# $ cd a\n",
        "# $ ls\n",
        "# dir e\n",
        "# 29116 f\n",
        "# 2557 g\n",
        "# 62596 h.lst\n",
        "# $ cd e\n",
        "# $ ls\n",
        "# 584 i\n",
        "# $ cd ..\n",
        "# $ cd ..\n",
        "# $ cd d\n",
        "# $ ls\n",
        "# 4060174 j\n",
        "# 8033020 d.log\n",
        "# 5626152 d.ext\n",
        "# 7214296 k'''.split(\"\\n\")"
      ],
      "metadata": {
        "id": "ZjYgIm1cFVCD"
      },
      "execution_count": null,
      "outputs": []
    },
    {
      "cell_type": "code",
      "source": [
        "from collections import namedtuple\n",
        "!pip install treelib "
      ],
      "metadata": {
        "colab": {
          "base_uri": "https://localhost:8080/"
        },
        "id": "KoZVr1lwFpYX",
        "outputId": "a05b880a-8fd8-41cf-80f6-fd3bc71e93cc"
      },
      "execution_count": null,
      "outputs": [
        {
          "output_type": "stream",
          "name": "stdout",
          "text": [
            "Looking in indexes: https://pypi.org/simple, https://us-python.pkg.dev/colab-wheels/public/simple/\n",
            "Collecting treelib\n",
            "  Downloading treelib-1.6.1.tar.gz (24 kB)\n",
            "Requirement already satisfied: future in /usr/local/lib/python3.8/dist-packages (from treelib) (0.16.0)\n",
            "Building wheels for collected packages: treelib\n",
            "  Building wheel for treelib (setup.py) ... \u001b[?25l\u001b[?25hdone\n",
            "  Created wheel for treelib: filename=treelib-1.6.1-py3-none-any.whl size=18385 sha256=eb9dffb6aef0ca0c5287e2670ad431e444062f22b9c65856fbe58e502ad372e3\n",
            "  Stored in directory: /root/.cache/pip/wheels/71/df/8b/6b005e3bb9b275c24dfc392cda334f43f132e85a6f17cfad3a\n",
            "Successfully built treelib\n",
            "Installing collected packages: treelib\n",
            "Successfully installed treelib-1.6.1\n"
          ]
        }
      ]
    },
    {
      "cell_type": "code",
      "source": [
        "class Directory:\n",
        "  def __init__(self, name, parent: str):\n",
        "    self.name = name\n",
        "    self.parent = parent\n",
        "  \n",
        "  def get_id(self):\n",
        "    return self.name + self.parent\n",
        "  \n",
        "\n",
        "  def __str__(self):\n",
        "    return self.name + f\"[{self.parent}]\"\n",
        "\n",
        "class File:\n",
        "  def __init__(self, name, size, parent: Directory):\n",
        "    self.name = name\n",
        "    self.size = size\n",
        "    self.parent = parent\n",
        "  \n",
        "  def get_id(self):\n",
        "    return self.name + self.parent\n",
        "  \n",
        "  def __str__(self):\n",
        "    return self.name + f\"[{self.parent}]\""
      ],
      "metadata": {
        "id": "4HYBUQlYep9_"
      },
      "execution_count": null,
      "outputs": []
    },
    {
      "cell_type": "code",
      "source": [
        "from treelib import Node, Tree\n",
        "import uuid \n",
        "\n",
        "content_mapper = Tree()\n",
        "tracker = {\"current_directory\": None}\n",
        "for row in input:\n",
        "  curr_dir = tracker[\"current_directory\"]\n",
        "  if row.startswith(\"$\"):\n",
        "    row_splitted = row.split()\n",
        "    if row_splitted[1] == \"cd\" and row_splitted[2] == \"/\": #root\n",
        "      dir = Directory(row_splitted[2], \"\")\n",
        "      root = content_mapper.get_node(dir)\n",
        "      if root is None:\n",
        "        content_mapper.create_node(dir.name, identifier=dir.get_id(), data=dir)\n",
        "      tracker[\"current_directory\"] = dir\n",
        "    elif row_splitted[1] == \"cd\" and row_splitted[2] != \"..\":\n",
        "      dir = Directory(row_splitted[2], curr_dir.get_id())\n",
        "      tracker[\"current_directory\"] = dir\n",
        "    elif row_splitted[1] == \"cd\" and row_splitted[2] == \"..\":\n",
        "      node = content_mapper.parent(tracker[\"current_directory\"].get_id())\n",
        "      if node is not None:\n",
        "        tracker[\"current_directory\"] = node.data\n",
        "  else:\n",
        "    if row.startswith(\"dir\"):\n",
        "      found_dir = Directory(row.split()[1], curr_dir.get_id())\n",
        "      node = content_mapper.get_node(found_dir.get_id())\n",
        "      if node is None:\n",
        "        content_mapper.create_node(found_dir.name, identifier=found_dir.get_id(), parent=curr_dir.get_id(), data=found_dir)        \n",
        "    else:\n",
        "      row_splitted = row.split()\n",
        "      found_file = File(row_splitted[1], row_splitted[0], curr_dir.get_id())      \n",
        "      node = content_mapper.get_node(found_file.get_id())\n",
        "      if node is None:\n",
        "        content_mapper.create_node(found_file.name, identifier=found_file.get_id(), parent=curr_dir.get_id(), data=found_file)\n",
        "\n",
        "content_mapper.show()\n",
        "all_dirs = [n.identifier for n in content_mapper.all_nodes() if isinstance(n.data, Directory)]\n",
        "print(all_dirs)\n",
        "filtered_total_sizes = []\n",
        "for dir in list(all_dirs):\n",
        "  acc = 0\n",
        "  subtree = content_mapper.subtree(dir).all_nodes()\n",
        "  for n in subtree:\n",
        "    fsystem = n.data\n",
        "    if (isinstance(fsystem, File)):\n",
        "      acc += int(fsystem.size)\n",
        "  if (acc <= 100000):\n",
        "    filtered_total_sizes.append(acc)\n",
        "  \n",
        "\n",
        "print(filtered_total_sizes)\n",
        "print(sum(filtered_total_sizes))\n"
      ],
      "metadata": {
        "colab": {
          "base_uri": "https://localhost:8080/"
        },
        "id": "OUTDTVxvZkX4",
        "outputId": "4f718657-0e71-4aa0-c8d5-2db53807724d"
      },
      "execution_count": null,
      "outputs": [
        {
          "output_type": "stream",
          "name": "stdout",
          "text": [
            "/\n",
            "├── btm\n",
            "├── fmfnpm\n",
            "│   ├── fgtqvq\n",
            "│   │   ├── rjc.ncl\n",
            "│   │   └── wdjrhw\n",
            "│   ├── fwdvgnqp.fsm\n",
            "│   ├── fwdwq.tsq\n",
            "│   ├── mtjngt\n",
            "│   ├── rdsgpfjb.sfn\n",
            "│   ├── rvnwwfq\n",
            "│   │   └── btm\n",
            "│   ├── wrzcjwc\n",
            "│   │   ├── fwdwq\n",
            "│   │   │   └── jqnl.hzj\n",
            "│   │   ├── fzb.tjs\n",
            "│   │   ├── lddhdslh\n",
            "│   │   │   ├── fzb\n",
            "│   │   │   └── gzj\n",
            "│   │   │       └── qzgsswr\n",
            "│   │   │           ├── qzgsswr.wmv\n",
            "│   │   │           └── sbjbw.shv\n",
            "│   │   ├── mjp\n",
            "│   │   │   ├── btm\n",
            "│   │   │   └── jqnl.hzj\n",
            "│   │   ├── vclnlds\n",
            "│   │   └── zjtftd\n",
            "│   └── zlpmfh\n",
            "│       └── ldgpvnh\n",
            "├── gwlwp\n",
            "│   ├── dwcrnbj\n",
            "│   │   ├── btm\n",
            "│   │   ├── fwdvgnqp.fsm\n",
            "│   │   ├── jbtfslcn\n",
            "│   │   │   └── sbjbw.shv\n",
            "│   │   ├── lgbglc\n",
            "│   │   │   ├── fmfnpm.rqh\n",
            "│   │   │   ├── fzb.lmm\n",
            "│   │   │   ├── hbl.blm\n",
            "│   │   │   ├── lwpglgt\n",
            "│   │   │   ├── qdpjss\n",
            "│   │   │   │   ├── djsrhr.vch\n",
            "│   │   │   │   └── lqljcq.sdv\n",
            "│   │   │   └── zlpmfh.chl\n",
            "│   │   ├── mfstl.hhp\n",
            "│   │   ├── sbffqq\n",
            "│   │   │   └── fwdvgnqp.fsm\n",
            "│   │   └── zhvn\n",
            "│   │       ├── clpcg\n",
            "│   │       │   ├── fwdvgnqp.fsm\n",
            "│   │       │   └── rth.rhm\n",
            "│   │       ├── gswvch\n",
            "│   │       │   ├── fzb\n",
            "│   │       │   │   └── qzgsswr\n",
            "│   │       │   │       └── jqnl.hzj\n",
            "│   │       │   └── mdrlrtl\n",
            "│   │       │       └── spm.wvf\n",
            "│   │       ├── lgmfhnq\n",
            "│   │       │   └── mjzw.tbq\n",
            "│   │       ├── rlvprbs\n",
            "│   │       ├── rnh.dlv\n",
            "│   │       └── ttjtnj.gjs\n",
            "│   ├── fmfnpm\n",
            "│   │   ├── bdmdfvs.llm\n",
            "│   │   ├── brfrv\n",
            "│   │   ├── fzb\n",
            "│   │   │   └── fzb\n",
            "│   │   │       └── gwtslbr\n",
            "│   │   │           └── fmfnpm.jqh\n",
            "│   │   ├── mnfsltsj\n",
            "│   │   ├── sbjbw.shv\n",
            "│   │   └── svtswb\n",
            "│   │       ├── fmfnpm\n",
            "│   │       │   └── rtv.jgn\n",
            "│   │       ├── fmfnpm.fdl\n",
            "│   │       ├── msfd\n",
            "│   │       │   └── jqnl.hzj\n",
            "│   │       ├── rtfwvd.fch\n",
            "│   │       └── vnwvdmcm.pbz\n",
            "│   ├── fwdwq\n",
            "│   │   ├── fzb\n",
            "│   │   ├── gcjd.nvp\n",
            "│   │   ├── hjfpn\n",
            "│   │   │   └── tfdt\n",
            "│   │   │       └── chvfjrgz.rdm\n",
            "│   │   ├── qbhn\n",
            "│   │   │   ├── fmfnpm\n",
            "│   │   │   ├── gfbt.nnc\n",
            "│   │   │   ├── hgdgbrw\n",
            "│   │   │   │   ├── fzb.vlp\n",
            "│   │   │   │   └── nbl\n",
            "│   │   │   │       ├── czpfqbp\n",
            "│   │   │   │       │   └── fzb.tqn\n",
            "│   │   │   │       └── fwdwq\n",
            "│   │   │   │           ├── lrgpwnvv\n",
            "│   │   │   │           └── mcmcn\n",
            "│   │   │   ├── jlztdcl\n",
            "│   │   │   │   ├── bzgzvfjv\n",
            "│   │   │   │   ├── fwdvgnqp.fsm\n",
            "│   │   │   │   ├── fwdwq\n",
            "│   │   │   │   │   ├── bpt\n",
            "│   │   │   │   │   │   ├── dhwvhq\n",
            "│   │   │   │   │   │   ├── njnhmgg\n",
            "│   │   │   │   │   │   ├── rjc.ncl\n",
            "│   │   │   │   │   │   └── sbjbw.shv\n",
            "│   │   │   │   │   ├── fmrmm\n",
            "│   │   │   │   │   │   ├── fmfnpm\n",
            "│   │   │   │   │   │   ├── qcgrnqf.flz\n",
            "│   │   │   │   │   │   ├── rjc.ncl\n",
            "│   │   │   │   │   │   └── sps\n",
            "│   │   │   │   │   │       └── sphjrrvc\n",
            "│   │   │   │   │   │           └── cwjwbp\n",
            "│   │   │   │   │   ├── fzb\n",
            "│   │   │   │   │   │   └── btm\n",
            "│   │   │   │   │   └── qzgsswr\n",
            "│   │   │   │   │       └── cjdltcj.wsw\n",
            "│   │   │   │   ├── fzb\n",
            "│   │   │   │   ├── zfrvp.ppd\n",
            "│   │   │   │   └── zgpwjbc.wcj\n",
            "│   │   │   ├── jqnl.hzj\n",
            "│   │   │   ├── ppcqqtlj\n",
            "│   │   │   │   └── zcmf.jll\n",
            "│   │   │   └── qzgsswr\n",
            "│   │   ├── qbnfrhdn\n",
            "│   │   │   ├── cdw.mfn\n",
            "│   │   │   ├── fwdwq\n",
            "│   │   │   │   ├── fwdvgnqp.fsm\n",
            "│   │   │   │   ├── fwdwq\n",
            "│   │   │   │   │   ├── cdb\n",
            "│   │   │   │   │   │   ├── djwqhfg.mhl\n",
            "│   │   │   │   │   │   └── zptj.cgm\n",
            "│   │   │   │   │   ├── fmfnpm\n",
            "│   │   │   │   │   ├── fwdvgnqp.fsm\n",
            "│   │   │   │   │   ├── hlg.zhq\n",
            "│   │   │   │   │   └── rzv.vjv\n",
            "│   │   │   │   ├── hhnf\n",
            "│   │   │   │   │   └── cpzrh\n",
            "│   │   │   │   │       ├── fwdvgnqp.fsm\n",
            "│   │   │   │   │       └── jqnl.hzj\n",
            "│   │   │   │   ├── hngcrd.hgt\n",
            "│   │   │   │   ├── hpj\n",
            "│   │   │   │   │   └── spqljpnt\n",
            "│   │   │   │   │       ├── fjvqzqt.lmz\n",
            "│   │   │   │   │       └── lfdrvlc.pww\n",
            "│   │   │   │   └── qzgsswr\n",
            "│   │   │   │       ├── fwdwq\n",
            "│   │   │   │       │   ├── ctr.zjl\n",
            "│   │   │   │       │   ├── jqnl.hzj\n",
            "│   │   │   │       │   └── zlpmfh\n",
            "│   │   │   │       ├── hwnmf\n",
            "│   │   │   │       │   ├── dspbm\n",
            "│   │   │   │       │   │   ├── btm\n",
            "│   │   │   │       │   │   ├── fng\n",
            "│   │   │   │       │   │   │   └── rjc.ncl\n",
            "│   │   │   │       │   │   └── lspft.twz\n",
            "│   │   │   │       │   ├── fwdwq.qwg\n",
            "│   │   │   │       │   ├── fzb\n",
            "│   │   │   │       │   ├── fzb.drv\n",
            "│   │   │   │       │   ├── jqnl.hzj\n",
            "│   │   │   │       │   └── nqt.wpr\n",
            "│   │   │   │       ├── rbjpbm\n",
            "│   │   │   │       │   ├── cgfsvqf\n",
            "│   │   │   │       │   ├── dbppcf\n",
            "│   │   │   │       │   │   └── jqnl.hzj\n",
            "│   │   │   │       │   ├── fwdvgnqp.fsm\n",
            "│   │   │   │       │   ├── qrssbjm.wbh\n",
            "│   │   │   │       │   ├── rgvvmf\n",
            "│   │   │   │       │   │   └── zhldtfj\n",
            "│   │   │   │       │   │       └── hflnwgj\n",
            "│   │   │   │       │   └── trtgj\n",
            "│   │   │   │       │       ├── flfhzc\n",
            "│   │   │   │       │       ├── qqdrglf.rbp\n",
            "│   │   │   │       │       └── rggqwl\n",
            "│   │   │   │       ├── vhstcbnf\n",
            "│   │   │   │       │   ├── btm\n",
            "│   │   │   │       │   ├── fcpwqj\n",
            "│   │   │   │       │   │   └── thrdj.vnw\n",
            "│   │   │   │       │   ├── fzb\n",
            "│   │   │   │       │   │   ├── rjc.ncl\n",
            "│   │   │   │       │   │   ├── vnq.sfp\n",
            "│   │   │   │       │   │   └── zpfjd.vgr\n",
            "│   │   │   │       │   ├── jmfsz\n",
            "│   │   │   │       │   ├── mjjcsbcn\n",
            "│   │   │   │       │   │   └── cscpb.tpw\n",
            "│   │   │   │       │   ├── qfnwth.lwq\n",
            "│   │   │   │       │   ├── qjfwzdn\n",
            "│   │   │   │       │   │   └── qzgsswr.pdw\n",
            "│   │   │   │       │   ├── qzgsswr\n",
            "│   │   │   │       │   │   ├── chptwpbh\n",
            "│   │   │   │       │   │   │   ├── fdhzfd.vbl\n",
            "│   │   │   │       │   │   │   ├── mcbr.jtn\n",
            "│   │   │   │       │   │   │   └── rtlmz.lvp\n",
            "│   │   │   │       │   │   ├── fwdwq\n",
            "│   │   │   │       │   │   │   └── qbqjp.cvs\n",
            "│   │   │   │       │   │   ├── htbcc.dbl\n",
            "│   │   │   │       │   │   ├── jqnl.hzj\n",
            "│   │   │   │       │   │   ├── svvdgvsw\n",
            "│   │   │   │       │   │   └── vqtnpbn\n",
            "│   │   │   │       │   │       ├── btm\n",
            "│   │   │   │       │   │       ├── fwdwq.nsg\n",
            "│   │   │   │       │   │       └── lnqbtt.fvs\n",
            "│   │   │   │       │   ├── rjc.ncl\n",
            "│   │   │   │       │   └── tvsfmpc.nhz\n",
            "│   │   │   │       └── zflfcnw\n",
            "│   │   │   │           └── jqnl.hzj\n",
            "│   │   │   ├── pnqzb.njr\n",
            "│   │   │   └── wznfpcn.qhp\n",
            "│   │   ├── wbdhc\n",
            "│   │   ├── wgdmvslc.ffs\n",
            "│   │   ├── znrlqvmb.thj\n",
            "│   │   └── ztf\n",
            "│   │       └── vrj\n",
            "│   │           ├── fmfnpm\n",
            "│   │           │   └── sbjbw.shv\n",
            "│   │           └── jqmcczl\n",
            "│   │               └── sbjbw.shv\n",
            "│   ├── hzpsts\n",
            "│   │   ├── dsqsfqv\n",
            "│   │   │   └── hqjwts\n",
            "│   │   ├── fmfnpm.bhn\n",
            "│   │   ├── fszpc\n",
            "│   │   │   ├── lrtsfgg\n",
            "│   │   │   │   ├── lhl.jwm\n",
            "│   │   │   │   ├── qhph\n",
            "│   │   │   │   │   └── zqswjnp.tnc\n",
            "│   │   │   │   └── zbttt.rmd\n",
            "│   │   │   └── nndsvglm\n",
            "│   │   │       ├── ddjgsmsm.rhv\n",
            "│   │   │       └── qzgsswr\n",
            "│   │   │           └── flmfc.pbn\n",
            "│   │   ├── fwdwq\n",
            "│   │   │   └── fmfnpm.rcs\n",
            "│   │   └── vrhcvmn\n",
            "│   │       ├── fzb.zqw\n",
            "│   │       ├── qzgsswr\n",
            "│   │       └── zrnsdljf\n",
            "│   │           └── sbjbw.shv\n",
            "│   ├── hzrq\n",
            "│   │   ├── fwdvgnqp.fsm\n",
            "│   │   ├── fwdwq.hcd\n",
            "│   │   └── vqt\n",
            "│   │       ├── fwdvgnqp.fsm\n",
            "│   │       └── rjc.ncl\n",
            "│   ├── jzwpjtf\n",
            "│   │   └── fwdwq\n",
            "│   ├── lmmpmghg\n",
            "│   │   ├── fwdwq\n",
            "│   │   │   ├── dzfmw\n",
            "│   │   │   │   ├── fmfnpm.qgg\n",
            "│   │   │   │   └── fwdwq\n",
            "│   │   │   │       ├── fwdvgnqp.fsm\n",
            "│   │   │   │       ├── jgvg.lgb\n",
            "│   │   │   │       ├── mbqw\n",
            "│   │   │   │       │   ├── fwdwq.sfb\n",
            "│   │   │   │       │   ├── sbjbw.shv\n",
            "│   │   │   │       │   └── stmb\n",
            "│   │   │   │       │       └── fwdwq.gtn\n",
            "│   │   │   │       ├── pwv\n",
            "│   │   │   │       ├── qzgsswr.nrz\n",
            "│   │   │   │       ├── sbjbw.shv\n",
            "│   │   │   │       └── zlpmfh\n",
            "│   │   │   │           └── jqnl.hzj\n",
            "│   │   │   ├── fmfnpm\n",
            "│   │   │   │   └── wrscv\n",
            "│   │   │   ├── qgdjz\n",
            "│   │   │   │   ├── llb\n",
            "│   │   │   │   │   ├── fmfnpm\n",
            "│   │   │   │   │   │   └── ddfzzh\n",
            "│   │   │   │   │   ├── rjc.ncl\n",
            "│   │   │   │   │   └── sbjbw.shv\n",
            "│   │   │   │   ├── pstmbbv\n",
            "│   │   │   │   │   └── fnj.vsr\n",
            "│   │   │   │   ├── qth\n",
            "│   │   │   │   │   └── chqshnhb.sdm\n",
            "│   │   │   │   ├── qzgsswr\n",
            "│   │   │   │   │   └── zlpmfh.dhp\n",
            "│   │   │   │   ├── rqbmzrh\n",
            "│   │   │   │   │   └── rjc.ncl\n",
            "│   │   │   │   └── ssqj\n",
            "│   │   │   │       └── gffp\n",
            "│   │   │   │           └── rjc.ncl\n",
            "│   │   │   ├── qzgsswr\n",
            "│   │   │   │   ├── btm\n",
            "│   │   │   │   ├── fmfnpm.gdr\n",
            "│   │   │   │   ├── hwzgndb\n",
            "│   │   │   │   └── mgdsh.tfd\n",
            "│   │   │   └── qzgsswr.wns\n",
            "│   │   ├── snqlc\n",
            "│   │   │   └── ztsc\n",
            "│   │   │       └── jqnl.hzj\n",
            "│   │   ├── trtpbbs\n",
            "│   │   │   ├── hhf.hww\n",
            "│   │   │   └── htzmmgd\n",
            "│   │   └── zlpmfh\n",
            "│   │       └── qtgpq.jjf\n",
            "│   ├── mnw\n",
            "│   │   ├── fwdwq\n",
            "│   │   │   ├── cgtmbm\n",
            "│   │   │   │   ├── dcw\n",
            "│   │   │   │   │   ├── mdqq\n",
            "│   │   │   │   │   │   ├── fwdvgnqp.fsm\n",
            "│   │   │   │   │   │   ├── fzb\n",
            "│   │   │   │   │   │   │   └── fmfnpm\n",
            "│   │   │   │   │   │   ├── mdwmrb.nqd\n",
            "│   │   │   │   │   │   ├── pfzsg\n",
            "│   │   │   │   │   │   │   ├── chp.lwg\n",
            "│   │   │   │   │   │   │   ├── fbffjpz\n",
            "│   │   │   │   │   │   │   └── nqvdq.hhl\n",
            "│   │   │   │   │   │   └── wvtjplcj\n",
            "│   │   │   │   │   │       └── lcchd.gsl\n",
            "│   │   │   │   │   └── nrg\n",
            "│   │   │   │   │       └── fwdvgnqp.fsm\n",
            "│   │   │   │   ├── fwdvgnqp.fsm\n",
            "│   │   │   │   ├── fwdwq\n",
            "│   │   │   │   │   └── zlpmfh.jql\n",
            "│   │   │   │   ├── hwsqv\n",
            "│   │   │   │   └── sbjbw.shv\n",
            "│   │   │   ├── dpnhgsf\n",
            "│   │   │   │   └── mchpsf.cwl\n",
            "│   │   │   ├── lddgc\n",
            "│   │   │   │   ├── cwdjlw\n",
            "│   │   │   │   ├── fzb.qbr\n",
            "│   │   │   │   └── vtjc.qqq\n",
            "│   │   │   ├── qzgsswr\n",
            "│   │   │   │   ├── jqnl.hzj\n",
            "│   │   │   │   └── tfsnpt.cpr\n",
            "│   │   │   └── vffzmhj.jqc\n",
            "│   │   ├── vbplht\n",
            "│   │   │   ├── mfwsbzzm.stf\n",
            "│   │   │   ├── mnwj.jdn\n",
            "│   │   │   ├── vtpzr.nnj\n",
            "│   │   │   └── zlpmfh\n",
            "│   │   │       ├── dqszzbs\n",
            "│   │   │       │   └── btm\n",
            "│   │   │       ├── fmfnpm.msw\n",
            "│   │   │       ├── jsfqrptb.dcl\n",
            "│   │   │       └── whmgv\n",
            "│   │   ├── zgrwvc\n",
            "│   │   │   ├── prmrv\n",
            "│   │   │   │   ├── rjc.ncl\n",
            "│   │   │   │   └── zlpmfh.hcz\n",
            "│   │   │   ├── qsljdzsj\n",
            "│   │   │   ├── rjc.ncl\n",
            "│   │   │   └── tpq.dhd\n",
            "│   │   └── zqlqrjgr\n",
            "│   │       ├── cjmhdr\n",
            "│   │       │   ├── fmfnpm\n",
            "│   │       │   ├── jqnl.hzj\n",
            "│   │       │   └── jtm.hmj\n",
            "│   │       └── sbjbw.shv\n",
            "│   ├── qzgsswr\n",
            "│   │   ├── frglht.mvr\n",
            "│   │   ├── fwdwq\n",
            "│   │   │   ├── gmthth\n",
            "│   │   │   │   ├── fzb.gwc\n",
            "│   │   │   │   ├── qzgsswr.gss\n",
            "│   │   │   │   └── rjc.ncl\n",
            "│   │   │   ├── mfsmjhr\n",
            "│   │   │   ├── njm\n",
            "│   │   │   │   ├── fwdvgnqp.fsm\n",
            "│   │   │   │   └── jqnl.hzj\n",
            "│   │   │   └── tslpnb\n",
            "│   │   │       └── fwdwq\n",
            "│   │   ├── fzb\n",
            "│   │   │   ├── jqnl.hzj\n",
            "│   │   │   ├── rwfjhg.rqt\n",
            "│   │   │   ├── wcqmpcrf.tzp\n",
            "│   │   │   └── zlpmfh.mmq\n",
            "│   │   └── rjc.ncl\n",
            "│   └── zlpmfh\n",
            "│       ├── dfgz\n",
            "│       │   ├── ncrggngr\n",
            "│       │   │   └── fwdwq\n",
            "│       │   │       ├── btm\n",
            "│       │   │       └── vfw\n",
            "│       │   └── qdnfl.pvt\n",
            "│       ├── fmfnpm\n",
            "│       │   └── fwdwq\n",
            "│       ├── sbjbw.shv\n",
            "│       ├── tvzqcg\n",
            "│       │   └── btm\n",
            "│       └── zlpmfh.ggc\n",
            "├── hchp\n",
            "│   ├── jlcsc\n",
            "│   │   └── pqdwdtm\n",
            "│   │       ├── cwtdqrn\n",
            "│   │       ├── fwdvgnqp.fsm\n",
            "│   │       ├── jqnl.hzj\n",
            "│   │       └── zvmf\n",
            "│   ├── jqnl.hzj\n",
            "│   ├── lvws\n",
            "│   │   └── tcc.ngf\n",
            "│   ├── zlpmfh\n",
            "│   │   └── vdtv\n",
            "│   │       └── fdrv\n",
            "│   │           └── fmfnpm.ssj\n",
            "│   └── zvb\n",
            "│       ├── cnsddwlg\n",
            "│       │   ├── jqnl.hzj\n",
            "│       │   └── tcjhhh\n",
            "│       │       ├── flm.hmb\n",
            "│       │       └── vvdqw.hwn\n",
            "│       └── csdz\n",
            "│           └── qzgsswr\n",
            "│               └── fzb.jhc\n",
            "├── hmbbjbf\n",
            "├── nsphznf\n",
            "│   ├── vns.cpc\n",
            "│   ├── wvzlgf.dss\n",
            "│   └── zldbdl\n",
            "│       ├── jqnl.hzj\n",
            "│       └── qzgsswr\n",
            "├── phschqg\n",
            "│   ├── fwdvgnqp.fsm\n",
            "│   ├── rjc.ncl\n",
            "│   └── zlpmfh\n",
            "│       ├── qzgsswr\n",
            "│       │   └── tzhpl\n",
            "│       └── szdv.chv\n",
            "├── rhpwvff\n",
            "├── spfwthmd\n",
            "│   └── ltfjljcv\n",
            "├── wchdqb\n",
            "│   ├── jtf\n",
            "│   └── zlpmfh\n",
            "├── zlpmfh\n",
            "│   ├── czb\n",
            "│   │   ├── fmcljr.qvz\n",
            "│   │   └── fmlr.sgr\n",
            "│   ├── hdm\n",
            "│   │   ├── frbhzrg\n",
            "│   │   │   ├── sbjbw.shv\n",
            "│   │   │   └── sgfhs\n",
            "│   │   ├── fwdwq\n",
            "│   │   │   ├── ggc\n",
            "│   │   │   │   ├── fwdwq\n",
            "│   │   │   │   ├── fwdwq.csr\n",
            "│   │   │   │   └── fwdwq.jwt\n",
            "│   │   │   ├── mvqtp\n",
            "│   │   │   │   └── dhp\n",
            "│   │   │   │       └── btm\n",
            "│   │   │   ├── rzvtdvvz\n",
            "│   │   │   │   └── fwdwq.ptd\n",
            "│   │   │   └── vjppb\n",
            "│   │   │       ├── jrmjsz.rrq\n",
            "│   │   │       ├── qzgsswr\n",
            "│   │   │       │   └── pswmmn.psl\n",
            "│   │   │       └── tnh\n",
            "│   │   ├── fwdwq.ldt\n",
            "│   │   ├── glbb\n",
            "│   │   ├── gsdccc.hqw\n",
            "│   │   ├── nlhj.hnc\n",
            "│   │   └── rjc.ncl\n",
            "│   ├── jhqqbqb\n",
            "│   │   ├── mbqc\n",
            "│   │   │   └── lcgnzwcn.pvp\n",
            "│   │   ├── npgls\n",
            "│   │   ├── nzfphn\n",
            "│   │   ├── nzzlwdd\n",
            "│   │   │   ├── qzgsswr.tcq\n",
            "│   │   │   └── zlpmfh.jls\n",
            "│   │   └── sbjbw.shv\n",
            "│   └── zmj\n",
            "│       └── fgt.tfr\n",
            "└── zlpmfh.gpt\n",
            "\n",
            "['/', 'fmfnpm/', 'gwlwp/', 'hchp/', 'nsphznf/', 'phschqg/', 'spfwthmd/', 'wchdqb/', 'zlpmfh/', 'fgtqvqfmfnpm/', 'rvnwwfqfmfnpm/', 'wrzcjwcfmfnpm/', 'zlpmfhfmfnpm/', 'fwdwqwrzcjwcfmfnpm/', 'lddhdslhwrzcjwcfmfnpm/', 'mjpwrzcjwcfmfnpm/', 'gzjlddhdslhwrzcjwcfmfnpm/', 'qzgsswrgzjlddhdslhwrzcjwcfmfnpm/', 'dwcrnbjgwlwp/', 'fmfnpmgwlwp/', 'fwdwqgwlwp/', 'hzpstsgwlwp/', 'hzrqgwlwp/', 'jzwpjtfgwlwp/', 'lmmpmghggwlwp/', 'mnwgwlwp/', 'qzgsswrgwlwp/', 'zlpmfhgwlwp/', 'jbtfslcndwcrnbjgwlwp/', 'lgbglcdwcrnbjgwlwp/', 'sbffqqdwcrnbjgwlwp/', 'zhvndwcrnbjgwlwp/', 'qdpjsslgbglcdwcrnbjgwlwp/', 'clpcgzhvndwcrnbjgwlwp/', 'gswvchzhvndwcrnbjgwlwp/', 'lgmfhnqzhvndwcrnbjgwlwp/', 'fzbgswvchzhvndwcrnbjgwlwp/', 'mdrlrtlgswvchzhvndwcrnbjgwlwp/', 'qzgsswrfzbgswvchzhvndwcrnbjgwlwp/', 'fzbfmfnpmgwlwp/', 'svtswbfmfnpmgwlwp/', 'fzbfzbfmfnpmgwlwp/', 'gwtslbrfzbfzbfmfnpmgwlwp/', 'fmfnpmsvtswbfmfnpmgwlwp/', 'msfdsvtswbfmfnpmgwlwp/', 'hjfpnfwdwqgwlwp/', 'qbhnfwdwqgwlwp/', 'qbnfrhdnfwdwqgwlwp/', 'ztffwdwqgwlwp/', 'tfdthjfpnfwdwqgwlwp/', 'hgdgbrwqbhnfwdwqgwlwp/', 'jlztdclqbhnfwdwqgwlwp/', 'ppcqqtljqbhnfwdwqgwlwp/', 'nblhgdgbrwqbhnfwdwqgwlwp/', 'czpfqbpnblhgdgbrwqbhnfwdwqgwlwp/', 'fwdwqnblhgdgbrwqbhnfwdwqgwlwp/', 'fwdwqjlztdclqbhnfwdwqgwlwp/', 'bptfwdwqjlztdclqbhnfwdwqgwlwp/', 'fmrmmfwdwqjlztdclqbhnfwdwqgwlwp/', 'fzbfwdwqjlztdclqbhnfwdwqgwlwp/', 'qzgsswrfwdwqjlztdclqbhnfwdwqgwlwp/', 'spsfmrmmfwdwqjlztdclqbhnfwdwqgwlwp/', 'sphjrrvcspsfmrmmfwdwqjlztdclqbhnfwdwqgwlwp/', 'fwdwqqbnfrhdnfwdwqgwlwp/', 'fwdwqfwdwqqbnfrhdnfwdwqgwlwp/', 'hhnffwdwqqbnfrhdnfwdwqgwlwp/', 'hpjfwdwqqbnfrhdnfwdwqgwlwp/', 'qzgsswrfwdwqqbnfrhdnfwdwqgwlwp/', 'cdbfwdwqfwdwqqbnfrhdnfwdwqgwlwp/', 'cpzrhhhnffwdwqqbnfrhdnfwdwqgwlwp/', 'spqljpnthpjfwdwqqbnfrhdnfwdwqgwlwp/', 'fwdwqqzgsswrfwdwqqbnfrhdnfwdwqgwlwp/', 'hwnmfqzgsswrfwdwqqbnfrhdnfwdwqgwlwp/', 'rbjpbmqzgsswrfwdwqqbnfrhdnfwdwqgwlwp/', 'vhstcbnfqzgsswrfwdwqqbnfrhdnfwdwqgwlwp/', 'zflfcnwqzgsswrfwdwqqbnfrhdnfwdwqgwlwp/', 'dspbmhwnmfqzgsswrfwdwqqbnfrhdnfwdwqgwlwp/', 'fngdspbmhwnmfqzgsswrfwdwqqbnfrhdnfwdwqgwlwp/', 'dbppcfrbjpbmqzgsswrfwdwqqbnfrhdnfwdwqgwlwp/', 'rgvvmfrbjpbmqzgsswrfwdwqqbnfrhdnfwdwqgwlwp/', 'trtgjrbjpbmqzgsswrfwdwqqbnfrhdnfwdwqgwlwp/', 'zhldtfjrgvvmfrbjpbmqzgsswrfwdwqqbnfrhdnfwdwqgwlwp/', 'fcpwqjvhstcbnfqzgsswrfwdwqqbnfrhdnfwdwqgwlwp/', 'fzbvhstcbnfqzgsswrfwdwqqbnfrhdnfwdwqgwlwp/', 'mjjcsbcnvhstcbnfqzgsswrfwdwqqbnfrhdnfwdwqgwlwp/', 'qjfwzdnvhstcbnfqzgsswrfwdwqqbnfrhdnfwdwqgwlwp/', 'qzgsswrvhstcbnfqzgsswrfwdwqqbnfrhdnfwdwqgwlwp/', 'chptwpbhqzgsswrvhstcbnfqzgsswrfwdwqqbnfrhdnfwdwqgwlwp/', 'fwdwqqzgsswrvhstcbnfqzgsswrfwdwqqbnfrhdnfwdwqgwlwp/', 'vqtnpbnqzgsswrvhstcbnfqzgsswrfwdwqqbnfrhdnfwdwqgwlwp/', 'vrjztffwdwqgwlwp/', 'fmfnpmvrjztffwdwqgwlwp/', 'jqmcczlvrjztffwdwqgwlwp/', 'dsqsfqvhzpstsgwlwp/', 'fszpchzpstsgwlwp/', 'fwdwqhzpstsgwlwp/', 'vrhcvmnhzpstsgwlwp/', 'lrtsfggfszpchzpstsgwlwp/', 'nndsvglmfszpchzpstsgwlwp/', 'qhphlrtsfggfszpchzpstsgwlwp/', 'qzgsswrnndsvglmfszpchzpstsgwlwp/', 'zrnsdljfvrhcvmnhzpstsgwlwp/', 'vqthzrqgwlwp/', 'fwdwqlmmpmghggwlwp/', 'snqlclmmpmghggwlwp/', 'trtpbbslmmpmghggwlwp/', 'zlpmfhlmmpmghggwlwp/', 'dzfmwfwdwqlmmpmghggwlwp/', 'fmfnpmfwdwqlmmpmghggwlwp/', 'qgdjzfwdwqlmmpmghggwlwp/', 'qzgsswrfwdwqlmmpmghggwlwp/', 'fwdwqdzfmwfwdwqlmmpmghggwlwp/', 'mbqwfwdwqdzfmwfwdwqlmmpmghggwlwp/', 'zlpmfhfwdwqdzfmwfwdwqlmmpmghggwlwp/', 'stmbmbqwfwdwqdzfmwfwdwqlmmpmghggwlwp/', 'llbqgdjzfwdwqlmmpmghggwlwp/', 'pstmbbvqgdjzfwdwqlmmpmghggwlwp/', 'qthqgdjzfwdwqlmmpmghggwlwp/', 'qzgsswrqgdjzfwdwqlmmpmghggwlwp/', 'rqbmzrhqgdjzfwdwqlmmpmghggwlwp/', 'ssqjqgdjzfwdwqlmmpmghggwlwp/', 'fmfnpmllbqgdjzfwdwqlmmpmghggwlwp/', 'gffpssqjqgdjzfwdwqlmmpmghggwlwp/', 'ztscsnqlclmmpmghggwlwp/', 'fwdwqmnwgwlwp/', 'vbplhtmnwgwlwp/', 'zgrwvcmnwgwlwp/', 'zqlqrjgrmnwgwlwp/', 'cgtmbmfwdwqmnwgwlwp/', 'dpnhgsffwdwqmnwgwlwp/', 'lddgcfwdwqmnwgwlwp/', 'qzgsswrfwdwqmnwgwlwp/', 'dcwcgtmbmfwdwqmnwgwlwp/', 'fwdwqcgtmbmfwdwqmnwgwlwp/', 'mdqqdcwcgtmbmfwdwqmnwgwlwp/', 'nrgdcwcgtmbmfwdwqmnwgwlwp/', 'fzbmdqqdcwcgtmbmfwdwqmnwgwlwp/', 'pfzsgmdqqdcwcgtmbmfwdwqmnwgwlwp/', 'wvtjplcjmdqqdcwcgtmbmfwdwqmnwgwlwp/', 'zlpmfhvbplhtmnwgwlwp/', 'dqszzbszlpmfhvbplhtmnwgwlwp/', 'prmrvzgrwvcmnwgwlwp/', 'cjmhdrzqlqrjgrmnwgwlwp/', 'fwdwqqzgsswrgwlwp/', 'fzbqzgsswrgwlwp/', 'gmththfwdwqqzgsswrgwlwp/', 'njmfwdwqqzgsswrgwlwp/', 'tslpnbfwdwqqzgsswrgwlwp/', 'dfgzzlpmfhgwlwp/', 'fmfnpmzlpmfhgwlwp/', 'tvzqcgzlpmfhgwlwp/', 'ncrggngrdfgzzlpmfhgwlwp/', 'fwdwqncrggngrdfgzzlpmfhgwlwp/', 'jlcschchp/', 'lvwshchp/', 'zlpmfhhchp/', 'zvbhchp/', 'pqdwdtmjlcschchp/', 'vdtvzlpmfhhchp/', 'fdrvvdtvzlpmfhhchp/', 'cnsddwlgzvbhchp/', 'csdzzvbhchp/', 'tcjhhhcnsddwlgzvbhchp/', 'qzgsswrcsdzzvbhchp/', 'zldbdlnsphznf/', 'zlpmfhphschqg/', 'qzgsswrzlpmfhphschqg/', 'czbzlpmfh/', 'hdmzlpmfh/', 'jhqqbqbzlpmfh/', 'zmjzlpmfh/', 'frbhzrghdmzlpmfh/', 'fwdwqhdmzlpmfh/', 'ggcfwdwqhdmzlpmfh/', 'mvqtpfwdwqhdmzlpmfh/', 'rzvtdvvzfwdwqhdmzlpmfh/', 'vjppbfwdwqhdmzlpmfh/', 'dhpmvqtpfwdwqhdmzlpmfh/', 'qzgsswrvjppbfwdwqhdmzlpmfh/', 'mbqcjhqqbqbzlpmfh/', 'nzzlwddjhqqbqbzlpmfh/']\n",
            "[76914, 46687, 29842, 86195, 39010, 99140, 25030, 47261, 72276, 75022, 22117, 52873, 71851, 34212, 34212, 89773, 63350, 32393, 82449, 66868, 90482, 37360, 40808, 40808, 40808, 59988, 22625, 11260]\n",
            "1491614\n"
          ]
        }
      ]
    },
    {
      "cell_type": "code",
      "source": [
        "from treelib import Node, Tree\n",
        "import uuid \n",
        "\n",
        "content_mapper = Tree()\n",
        "tracker = {\"current_directory\": None}\n",
        "target_value = 30000000\n",
        "for row in input:\n",
        "  curr_dir = tracker[\"current_directory\"]\n",
        "  if row.startswith(\"$\"):\n",
        "    row_splitted = row.split()\n",
        "    if row_splitted[1] == \"cd\" and row_splitted[2] == \"/\":\n",
        "      dir = Directory(row_splitted[2], \"\")\n",
        "      root = content_mapper.get_node(dir)\n",
        "      if root is None:\n",
        "        content_mapper.create_node(dir.name, identifier=dir.get_id(), data=dir)\n",
        "      tracker[\"current_directory\"] = dir\n",
        "    elif row_splitted[1] == \"cd\" and row_splitted[2] != \"..\":\n",
        "      dir = Directory(row_splitted[2], curr_dir.get_id())\n",
        "      tracker[\"current_directory\"] = dir\n",
        "    elif row_splitted[1] == \"cd\" and row_splitted[2] == \"..\":\n",
        "      node = content_mapper.parent(tracker[\"current_directory\"].get_id())\n",
        "      if node is not None:\n",
        "        tracker[\"current_directory\"] = node.data\n",
        "  else:\n",
        "    if row.startswith(\"dir\"):\n",
        "      found_dir = Directory(row.split()[1], curr_dir.get_id())\n",
        "      node = content_mapper.get_node(found_dir.get_id())\n",
        "      if node is None:\n",
        "        content_mapper.create_node(found_dir.name, identifier=found_dir.get_id(), parent=curr_dir.get_id(), data=found_dir)        \n",
        "    else:\n",
        "      row_splitted = row.split()\n",
        "      found_file = File(row_splitted[1], row_splitted[0], curr_dir.get_id())      \n",
        "      node = content_mapper.get_node(found_file.get_id())\n",
        "      if node is None:\n",
        "        content_mapper.create_node(found_file.name, identifier=found_file.get_id(), parent=curr_dir.get_id(), data=found_file)\n",
        "\n",
        "all_dirs = [n.identifier for n in content_mapper.all_nodes() if isinstance(n.data, Directory)]\n",
        "all_sizes =  [int(node.data.size) for node in content_mapper.subtree(\"/\").all_nodes() if isinstance(node.data, File)]\n",
        "max_size = 70000000\n",
        "target_size = 30000000\n",
        "total_size = sum(all_sizes)\n",
        "unused_space = max_size - total_size\n",
        "minimum_size = target_size - unused_space\n",
        "candidates = []\n",
        "for dir in list(all_dirs):\n",
        "  acc = 0\n",
        "  subtree = content_mapper.subtree(dir).all_nodes()\n",
        "  for n in subtree:\n",
        "    fsystem = n.data\n",
        "    if (isinstance(fsystem, File)):\n",
        "      acc += int(fsystem.size)\n",
        "  if (acc >= minimum_size):\n",
        "    candidates.append(acc)\n",
        "  \n",
        "print(min(candidates))"
      ],
      "metadata": {
        "id": "mhpL-H-0GQh-",
        "colab": {
          "base_uri": "https://localhost:8080/"
        },
        "outputId": "ce13735c-cd94-4543-ff4f-cfbf782db5fa"
      },
      "execution_count": null,
      "outputs": [
        {
          "output_type": "stream",
          "name": "stdout",
          "text": [
            "6400111\n"
          ]
        }
      ]
    },
    {
      "cell_type": "markdown",
      "source": [
        "## **Day 8**"
      ],
      "metadata": {
        "id": "myCtwXz4R1G5"
      }
    },
    {
      "cell_type": "code",
      "source": [
        "input = open(\"input_8.txt\", \"r\").read().strip()\n",
        "# input = '''30373\n",
        "# 25512\n",
        "# 65332\n",
        "# 33549\n",
        "# 35390'''.strip()\n",
        "\n",
        "import numpy as np\n",
        "input = [list(r) for r in input.split(\"\\n\")]\n",
        "func = np.vectorize(lambda x: int(x))\n",
        "input_arr = np.asarray(list(input)).reshape(len(input), -1)\n",
        "input_arr = func(input_arr)"
      ],
      "metadata": {
        "id": "aIh0KmWLRvwl"
      },
      "execution_count": null,
      "outputs": []
    },
    {
      "cell_type": "code",
      "source": [
        "n_rows, n_cols = input_arr.shape\n",
        "edges = n_rows * 2 + n_cols * 2 - 4\n",
        "print(n_rows, n_cols)\n",
        "n_visibles = 0\n",
        "for i in range(1, n_rows-1):\n",
        "  for j in range(1, n_cols-1):\n",
        "    curr = input_arr[i, j]\n",
        "    bool_matrix = curr <= input_arr\n",
        "    horizontal = bool_matrix[i, :]\n",
        "    to_left = sum(horizontal[:j])\n",
        "    to_right = sum(horizontal[j+1:])\n",
        "\n",
        "    vertical = bool_matrix[:, j]\n",
        "    to_top = sum(vertical[:i])\n",
        "    to_bottom = sum(vertical[i+1:])\n",
        "\n",
        "    if (to_left == 0 or to_right == 0 or to_top == 0 or to_bottom == 0):\n",
        "      n_visibles += 1\n",
        "print(n_visibles + edges)"
      ],
      "metadata": {
        "id": "Or92UuKCR9JI"
      },
      "execution_count": null,
      "outputs": []
    },
    {
      "cell_type": "code",
      "source": [
        "from prompt_toolkit.shortcuts.utils import print_container\n",
        "n_rows, n_cols = input_arr.shape\n",
        "edges = n_rows * 2 + n_cols * 2 - 4\n",
        "print(n_rows, n_cols)\n",
        "print(input_arr)\n",
        "max_score = 0\n",
        "for i in range(1, n_rows):\n",
        "  for j in range(1, n_cols):\n",
        "    curr = input_arr[i, j]\n",
        "    horizontal = input_arr[i:i+1, :].reshape(1, -1)\n",
        "    vertical = input_arr[:, j:j+1].reshape(1, -1)\n",
        "\n",
        "    left = np.roll(horizontal[:, :j+1], 1)[:, ::-1] >= curr\n",
        "    left_qtd = min(left.argmax() + 1, left.size - 1)\n",
        "\n",
        "    right = np.roll(horizontal[:, j:], -1) >= curr\n",
        "    right_qtd = min(right.argmax() + 1, right.size - 1)\n",
        "\n",
        "    top = np.roll(vertical[:, :i+1], 1)[:, ::-1] >= curr\n",
        "    top_qtd = min(top.argmax() + 1, top.size - 1)\n",
        "\n",
        "    bottom = np.roll(vertical[:, i:], -1) >= curr\n",
        "    bottom_qtd = min(bottom.argmax() + 1, bottom.size - 1)\n",
        "\n",
        "    max_score = max(max_score, (left_qtd * right_qtd * top_qtd * bottom_qtd))\n",
        "print(\"max\", max_score)"
      ],
      "metadata": {
        "id": "0EmCZg6Qb82h"
      },
      "execution_count": null,
      "outputs": []
    },
    {
      "cell_type": "markdown",
      "source": [
        "## **Day 9**"
      ],
      "metadata": {
        "id": "DGANMIicbSuR"
      }
    },
    {
      "cell_type": "code",
      "source": [
        "input = open(\"input_9.txt\", \"r\").readlines()\n",
        "# input = '''R 4\n",
        "# U 4\n",
        "# L 3\n",
        "# D 1\n",
        "# R 4\n",
        "# D 1\n",
        "# L 5\n",
        "# R 2'''.split(\"\\n\")\n",
        "# input = '''R 5\n",
        "# U 8\n",
        "# L 8\n",
        "# D 3\n",
        "# R 17\n",
        "# D 10\n",
        "# L 25\n",
        "# U 20'''.split(\"\\n\")\n"
      ],
      "metadata": {
        "id": "vv9g6MNLbSQb"
      },
      "execution_count": 367,
      "outputs": []
    },
    {
      "cell_type": "code",
      "source": [
        "import numpy as np\n",
        "import math\n",
        "\n",
        "def adjacent(pos1, pos2):\n",
        "  return abs(pos1[0] - pos2[0]) <= 1 and abs(pos1[1] - pos2[1]) <= 1\n",
        "\n",
        "pos_matrix = np.asarray(['.'] * 2500).reshape(50, 50)\n",
        "print(pos_matrix)\n",
        "\n",
        "curr_head_pos = [4, 0]\n",
        "curr_tail_pos = [4, 0]\n",
        "prev_tail_positions = []\n",
        "prev_head_pos = curr_head_pos\n",
        "\n",
        "for row in input:\n",
        "  movement, qtd = row.split()\n",
        "  qtd = int(qtd)\n",
        "  if movement == \"R\":\n",
        "    increment = +1\n",
        "    axis = 1\n",
        "  elif movement == \"L\":\n",
        "    increment = -1\n",
        "    axis = 1\n",
        "  elif movement == \"U\":\n",
        "    increment = -1\n",
        "    axis = 0\n",
        "  elif movement == \"D\":\n",
        "    increment = +1\n",
        "    axis = 0\n",
        "  \n",
        "  for i in range(qtd):\n",
        "    prev_head_pos = curr_head_pos.copy()\n",
        "    curr_head_pos[axis] += increment\n",
        "    if not adjacent(curr_head_pos, curr_tail_pos):\n",
        "      prev_tail_positions.append(curr_tail_pos.copy())\n",
        "      curr_tail_pos = prev_head_pos\n",
        "\n",
        "all = prev_tail_positions + [curr_tail_pos]\n",
        "all = set([str(i[0]) + \",\" + str(i[1]) for i in all])\n",
        "print(curr_head_pos)\n",
        "print(curr_tail_pos)\n",
        "print(len(all))"
      ],
      "metadata": {
        "colab": {
          "base_uri": "https://localhost:8080/"
        },
        "id": "qt72HYI-cJeM",
        "outputId": "78ba9cf3-3b60-4db0-96f5-ba8ae684d57d"
      },
      "execution_count": 97,
      "outputs": [
        {
          "output_type": "stream",
          "name": "stdout",
          "text": [
            "[['.' '.' '.' ... '.' '.' '.']\n",
            " ['.' '.' '.' ... '.' '.' '.']\n",
            " ['.' '.' '.' ... '.' '.' '.']\n",
            " ...\n",
            " ['.' '.' '.' ... '.' '.' '.']\n",
            " ['.' '.' '.' ... '.' '.' '.']\n",
            " ['.' '.' '.' ... '.' '.' '.']]\n",
            "[2, 2]\n",
            "[2, 1]\n",
            "13\n"
          ]
        }
      ]
    },
    {
      "cell_type": "code",
      "source": [
        "from traitlets.config import deepcopy\n",
        "import numpy as np\n",
        "import math\n",
        "import copy\n",
        "import sys\n",
        "import numpy as np\n",
        "np.set_printoptions(edgeitems=30, linewidth=100000, \n",
        "    formatter=dict(float=lambda x: \"%.3g\" % x))\n",
        "\n",
        "def adjacent(pos1, pos2, threshold = 1):\n",
        "  is_adjacent = (abs(pos1[0] - pos2[0]) <= threshold and abs(pos1[1] - pos2[1]) <= threshold)\n",
        "  is_diagonal = pos1[0] != pos2[0] and pos1[1] != pos2[1]\n",
        "  return is_adjacent, is_diagonal\n",
        "\n",
        "pos_matrix = np.asarray(['.'] * 546).reshape(21, 26)\n",
        "\n",
        "n_knots = 10\n",
        "knots_positions = [[15, 11] for _ in range(n_knots)]\n",
        "knot_symbols = ['H', '1', '2', '3', '4', '5', '6', '7', '8', '9']\n",
        "head_index = 0\n",
        "tail_index = n_knots - 1\n",
        "prev_tail_positions = []\n",
        "debug = False\n",
        "for row in input:\n",
        "  movement, qtd = row.split()\n",
        "  qtd = int(qtd)\n",
        "  if movement == \"R\":\n",
        "    increment = +1\n",
        "    axis = 1\n",
        "  elif movement == \"L\":\n",
        "    increment = -1\n",
        "    axis = 1\n",
        "  elif movement == \"U\":\n",
        "    increment = -1\n",
        "    axis = 0\n",
        "  elif movement == \"D\":\n",
        "    increment = +1\n",
        "    axis = 0\n",
        "  \n",
        "  for i in range(qtd):\n",
        "    prev = copy.deepcopy(knots_positions[head_index])\n",
        "    knots_positions[head_index][axis] += increment\n",
        "    if debug:\n",
        "      print(f\"updating head from {prev} to {knots_positions[head_index]}\")\n",
        "    for current_knot_idx in range(1, len(knots_positions)):\n",
        "      prev_knot_pos = knots_positions[current_knot_idx - 1]\n",
        "      curr_knot_pos = knots_positions[current_knot_idx]\n",
        "      if debug:\n",
        "        print(f\"comparing knot {knot_symbols[current_knot_idx]} with {knot_symbols[current_knot_idx-1]}\")\n",
        "      is_adjacent, is_diagonal = adjacent(prev_knot_pos, curr_knot_pos)\n",
        "      if not is_adjacent and not is_diagonal:\n",
        "        axis_to_increase = 1 if prev_knot_pos[0] == curr_knot_pos[0] else 0\n",
        "        qtd_to_increase = 1 if (prev_knot_pos[axis_to_increase] - curr_knot_pos[axis_to_increase]) > 0 else -1\n",
        "        if current_knot_idx == tail_index:\n",
        "          prev_tail_positions.append(copy.deepcopy(curr_knot_pos))\n",
        "        knots_positions[current_knot_idx][axis_to_increase] += qtd_to_increase\n",
        "        if debug:\n",
        "         print(f\"---> MOVING knot {knot_symbols[current_knot_idx]} to {knots_positions[current_knot_idx]}\")\n",
        "      elif not is_adjacent and is_diagonal:\n",
        "        if current_knot_idx == tail_index:\n",
        "          prev_tail_positions.append(copy.deepcopy(curr_knot_pos))\n",
        "        relative_incr_i = 1 if (prev_knot_pos[0] - curr_knot_pos[0]) > 0 else -1 \n",
        "        relative_incr_j = 1 if (prev_knot_pos[1] - curr_knot_pos[1]) > 0 else -1\n",
        "        new_position = deepcopy([knots_positions[current_knot_idx][0] + relative_incr_i, knots_positions[current_knot_idx][1] + relative_incr_j])\n",
        "        knots_positions[current_knot_idx] = new_position\n",
        "        if debug:\n",
        "          print(f\"---> MOVING [DIAGONAL] knot {knot_symbols[current_knot_idx]} to {new_position}\")\n",
        "    if debug:\n",
        "      pos_matrix = np.asarray(['.'] * 546).reshape(21, 26)\n",
        "      for idx, pos in enumerate(knots_positions):\n",
        "        pos_matrix[pos[0], pos[1]] = knot_symbols[idx]\n",
        "      print(pos_matrix)\n",
        "  if debug:\n",
        "    print(row)\n",
        "    print(knots_positions)\n",
        "    break\n",
        "\n",
        "all = prev_tail_positions + [knots_positions[tail_index]]\n",
        "all = set([str(i[0]) + \",\" + str(i[1]) for i in all])\n",
        "print(len(all))"
      ],
      "metadata": {
        "colab": {
          "base_uri": "https://localhost:8080/"
        },
        "id": "X_h3p-y7y9JI",
        "outputId": "6b42bd4a-aea3-4db9-ced5-6ccf288662ca"
      },
      "execution_count": 371,
      "outputs": [
        {
          "output_type": "stream",
          "name": "stdout",
          "text": [
            "2793\n"
          ]
        }
      ]
    }
  ]
}